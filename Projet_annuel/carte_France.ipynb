{
 "cells": [
  {
   "cell_type": "code",
   "execution_count": 6,
   "metadata": {},
   "outputs": [],
   "source": [
    "import pandas as pd\n",
    "import matplotlib.pyplot as plt"
   ]
  },
  {
   "attachments": {},
   "cell_type": "markdown",
   "metadata": {},
   "source": [
    "## localisation Département"
   ]
  },
  {
   "cell_type": "code",
   "execution_count": 66,
   "metadata": {},
   "outputs": [
    {
     "data": {
      "text/html": [
       "<div>\n",
       "<style scoped>\n",
       "    .dataframe tbody tr th:only-of-type {\n",
       "        vertical-align: middle;\n",
       "    }\n",
       "\n",
       "    .dataframe tbody tr th {\n",
       "        vertical-align: top;\n",
       "    }\n",
       "\n",
       "    .dataframe thead th {\n",
       "        text-align: right;\n",
       "    }\n",
       "</style>\n",
       "<table border=\"1\" class=\"dataframe\">\n",
       "  <thead>\n",
       "    <tr style=\"text-align: right;\">\n",
       "      <th></th>\n",
       "      <th>code_insee</th>\n",
       "      <th>nom</th>\n",
       "      <th>DEPLONG</th>\n",
       "      <th>DEPLAT</th>\n",
       "    </tr>\n",
       "  </thead>\n",
       "  <tbody>\n",
       "    <tr>\n",
       "      <th>0</th>\n",
       "      <td>11</td>\n",
       "      <td>Aude</td>\n",
       "      <td>2.413622</td>\n",
       "      <td>43.103254</td>\n",
       "    </tr>\n",
       "    <tr>\n",
       "      <th>1</th>\n",
       "      <td>43</td>\n",
       "      <td>Haute-Loire</td>\n",
       "      <td>3.806298</td>\n",
       "      <td>45.128115</td>\n",
       "    </tr>\n",
       "    <tr>\n",
       "      <th>2</th>\n",
       "      <td>13</td>\n",
       "      <td>Bouches-du-Rhône</td>\n",
       "      <td>5.086225</td>\n",
       "      <td>43.543055</td>\n",
       "    </tr>\n",
       "    <tr>\n",
       "      <th>3</th>\n",
       "      <td>47</td>\n",
       "      <td>Lot-et-Garonne</td>\n",
       "      <td>0.460747</td>\n",
       "      <td>44.367964</td>\n",
       "    </tr>\n",
       "    <tr>\n",
       "      <th>4</th>\n",
       "      <td>23</td>\n",
       "      <td>Creuse</td>\n",
       "      <td>2.018230</td>\n",
       "      <td>46.090620</td>\n",
       "    </tr>\n",
       "    <tr>\n",
       "      <th>5</th>\n",
       "      <td>19</td>\n",
       "      <td>Corrèze</td>\n",
       "      <td>1.877773</td>\n",
       "      <td>45.357342</td>\n",
       "    </tr>\n",
       "    <tr>\n",
       "      <th>6</th>\n",
       "      <td>15</td>\n",
       "      <td>Cantal</td>\n",
       "      <td>2.669045</td>\n",
       "      <td>45.051247</td>\n",
       "    </tr>\n",
       "    <tr>\n",
       "      <th>7</th>\n",
       "      <td>91</td>\n",
       "      <td>Essonne</td>\n",
       "      <td>2.243409</td>\n",
       "      <td>48.522615</td>\n",
       "    </tr>\n",
       "    <tr>\n",
       "      <th>8</th>\n",
       "      <td>76</td>\n",
       "      <td>Seine-Maritime</td>\n",
       "      <td>1.025786</td>\n",
       "      <td>49.654280</td>\n",
       "    </tr>\n",
       "    <tr>\n",
       "      <th>9</th>\n",
       "      <td>38</td>\n",
       "      <td>Isère</td>\n",
       "      <td>5.573985</td>\n",
       "      <td>45.264087</td>\n",
       "    </tr>\n",
       "  </tbody>\n",
       "</table>\n",
       "</div>"
      ],
      "text/plain": [
       "  code_insee               nom   DEPLONG     DEPLAT\n",
       "0         11              Aude  2.413622  43.103254\n",
       "1         43       Haute-Loire  3.806298  45.128115\n",
       "2         13  Bouches-du-Rhône  5.086225  43.543055\n",
       "3         47    Lot-et-Garonne  0.460747  44.367964\n",
       "4         23            Creuse  2.018230  46.090620\n",
       "5         19           Corrèze  1.877773  45.357342\n",
       "6         15            Cantal  2.669045  45.051247\n",
       "7         91           Essonne  2.243409  48.522615\n",
       "8         76    Seine-Maritime  1.025786  49.654280\n",
       "9         38             Isère  5.573985  45.264087"
      ]
     },
     "execution_count": 66,
     "metadata": {},
     "output_type": "execute_result"
    }
   ],
   "source": [
    "dep = pd.read_csv(\"departement_french_2018.csv\")\n",
    "dep.drop([\"nuts3\",\"wikipedia\",\"surf_km2\"],axis=1,inplace=True)\n",
    "long=dep[\"DEPLONG\"]\n",
    "lag=dep[\"DEPLAT\"]\n",
    "dep.head(10)"
   ]
  },
  {
   "cell_type": "code",
   "execution_count": 64,
   "metadata": {},
   "outputs": [
    {
     "data": {
      "text/plain": [
       "(95,)"
      ]
     },
     "execution_count": 64,
     "metadata": {},
     "output_type": "execute_result"
    }
   ],
   "source": [
    "long.shape"
   ]
  },
  {
   "cell_type": "code",
   "execution_count": 55,
   "metadata": {},
   "outputs": [
    {
     "data": {
      "text/plain": [
       "<matplotlib.collections.PathCollection at 0x2bcfdb47280>"
      ]
     },
     "execution_count": 55,
     "metadata": {},
     "output_type": "execute_result"
    },
    {
     "data": {
      "image/png": "[encoded data removed]",
      "text/plain": [
       "<Figure size 640x480 with 1 Axes>"
      ]
     },
     "metadata": {},
     "output_type": "display_data"
    }
   ],
   "source": [
    "plt.scatter(long,lag)"
   ]
  },
  {
   "attachments": {},
   "cell_type": "markdown",
   "metadata": {},
   "source": [
    "## Localisation Villes"
   ]
  },
  {
   "cell_type": "code",
   "execution_count": 166,
   "metadata": {},
   "outputs": [
    {
     "data": {
      "text/html": [
       "<div>\n",
       "<style scoped>\n",
       "    .dataframe tbody tr th:only-of-type {\n",
       "        vertical-align: middle;\n",
       "    }\n",
       "\n",
       "    .dataframe tbody tr th {\n",
       "        vertical-align: top;\n",
       "    }\n",
       "\n",
       "    .dataframe thead th {\n",
       "        text-align: right;\n",
       "    }\n",
       "</style>\n",
       "<table border=\"1\" class=\"dataframe\">\n",
       "  <thead>\n",
       "    <tr style=\"text-align: right;\">\n",
       "      <th></th>\n",
       "      <th>name</th>\n",
       "      <th>gps_lat</th>\n",
       "      <th>gps_lng</th>\n",
       "    </tr>\n",
       "  </thead>\n",
       "  <tbody>\n",
       "    <tr>\n",
       "      <th>0</th>\n",
       "      <td>L'Abergement-Clémenciat</td>\n",
       "      <td>46.156782</td>\n",
       "      <td>4.924699</td>\n",
       "    </tr>\n",
       "    <tr>\n",
       "      <th>1</th>\n",
       "      <td>L'Abergement-de-Varey</td>\n",
       "      <td>46.010086</td>\n",
       "      <td>5.428759</td>\n",
       "    </tr>\n",
       "    <tr>\n",
       "      <th>2</th>\n",
       "      <td>Ambérieu-en-Bugey</td>\n",
       "      <td>45.958409</td>\n",
       "      <td>5.375992</td>\n",
       "    </tr>\n",
       "    <tr>\n",
       "      <th>3</th>\n",
       "      <td>Ambérieux-en-Dombes</td>\n",
       "      <td>46.000120</td>\n",
       "      <td>4.910602</td>\n",
       "    </tr>\n",
       "    <tr>\n",
       "      <th>4</th>\n",
       "      <td>Ambléon</td>\n",
       "      <td>45.746427</td>\n",
       "      <td>5.602492</td>\n",
       "    </tr>\n",
       "    <tr>\n",
       "      <th>...</th>\n",
       "      <td>...</td>\n",
       "      <td>...</td>\n",
       "      <td>...</td>\n",
       "    </tr>\n",
       "    <tr>\n",
       "      <th>35608</th>\n",
       "      <td>Wy-dit-Joli-Village</td>\n",
       "      <td>49.097665</td>\n",
       "      <td>1.826260</td>\n",
       "    </tr>\n",
       "    <tr>\n",
       "      <th>35610</th>\n",
       "      <td>Les Abymes</td>\n",
       "      <td>46.227638</td>\n",
       "      <td>2.213749</td>\n",
       "    </tr>\n",
       "    <tr>\n",
       "      <th>35750</th>\n",
       "      <td>Mamoudzou</td>\n",
       "      <td>46.227638</td>\n",
       "      <td>2.213749</td>\n",
       "    </tr>\n",
       "    <tr>\n",
       "      <th>35751</th>\n",
       "      <td>Mamoudzou</td>\n",
       "      <td>46.227638</td>\n",
       "      <td>2.213749</td>\n",
       "    </tr>\n",
       "    <tr>\n",
       "      <th>35752</th>\n",
       "      <td>Mamoudzou</td>\n",
       "      <td>46.227638</td>\n",
       "      <td>2.213749</td>\n",
       "    </tr>\n",
       "  </tbody>\n",
       "</table>\n",
       "<p>35209 rows × 3 columns</p>\n",
       "</div>"
      ],
      "text/plain": [
       "                          name    gps_lat   gps_lng\n",
       "0      L'Abergement-Clémenciat  46.156782  4.924699\n",
       "1        L'Abergement-de-Varey  46.010086  5.428759\n",
       "2            Ambérieu-en-Bugey  45.958409  5.375992\n",
       "3          Ambérieux-en-Dombes  46.000120  4.910602\n",
       "4                      Ambléon  45.746427  5.602492\n",
       "...                        ...        ...       ...\n",
       "35608      Wy-dit-Joli-Village  49.097665  1.826260\n",
       "35610               Les Abymes  46.227638  2.213749\n",
       "35750                Mamoudzou  46.227638  2.213749\n",
       "35751                Mamoudzou  46.227638  2.213749\n",
       "35752                Mamoudzou  46.227638  2.213749\n",
       "\n",
       "[35209 rows x 3 columns]"
      ]
     },
     "execution_count": 166,
     "metadata": {},
     "output_type": "execute_result"
    }
   ],
   "source": [
    "def Data():\n",
    "    cit= pd.read_csv(\"cities.csv\")\n",
    "    cit.drop([\"department_code\",\"insee_code\",\"zip_code\",\"slug\",\"id\"],axis=1,inplace=True)\n",
    "    cit.drop(cit[(cit['gps_lat'] <40)].index, inplace=True)\n",
    "    cit.drop(cit[(cit['gps_lng']<-10)].index, inplace=True)\n",
    "    cit.drop(cit[(cit['gps_lng']>8)].index, inplace=True)\n",
    "    return cit\n",
    "cit=Data()\n",
    "cit"
   ]
  },
  {
   "cell_type": "code",
   "execution_count": 167,
   "metadata": {},
   "outputs": [
    {
     "data": {
      "text/plain": [
       "<matplotlib.collections.PathCollection at 0x2bcfde53640>"
      ]
     },
     "execution_count": 167,
     "metadata": {},
     "output_type": "execute_result"
    },
    {
     "data": {
      "image/png": "[encoded data removed]",
      "text/plain": [
       "<Figure size 640x480 with 1 Axes>"
      ]
     },
     "metadata": {},
     "output_type": "display_data"
    }
   ],
   "source": [
    "long=cit[\"gps_lng\"]\n",
    "lag=cit[\"gps_lat\"]\n",
    "plt.scatter(long,lag)"
   ]
  },
  {
   "attachments": {},
   "cell_type": "markdown",
   "metadata": {},
   "source": [
    "Dataframe avec quelques villes de France"
   ]
  },
  {
   "cell_type": "code",
   "execution_count": 181,
   "metadata": {},
   "outputs": [],
   "source": [
    "def villes(liste):\n",
    "    df = pd.DataFrame(columns =['name', 'gps_lat', 'gps_lng'])\n",
    "    frames=[]\n",
    "    for i in range(len(liste)):\n",
    "        villes_ligne=Cities(liste[i])\n",
    "        frames.append(villes_ligne)\n",
    "    for i in range(len(frames)):\n",
    "        df=pd.concat([df,frames[i]])\n",
    "    return df"
   ]
  },
  {
   "cell_type": "code",
   "execution_count": 169,
   "metadata": {},
   "outputs": [],
   "source": [
    "def Cities(ville):\n",
    "    tab=cit.drop(cit[(cit['name']!=ville)].index)\n",
    "    tab.drop_duplicates(subset =\"name\", keep = 'first', inplace=True)\n",
    "    return tab"
   ]
  },
  {
   "attachments": {},
   "cell_type": "markdown",
   "metadata": {},
   "source": [
    ",\"Nantes\",\"Strasbourg\",\"Orléans\",\"Lourdes\",\"Chambéry\",\"Besançon\",\"Toulouse\",\"Nice\",\"Dijon\",\"Calais\",\"Lyon\""
   ]
  },
  {
   "attachments": {},
   "cell_type": "markdown",
   "metadata": {},
   "source": [
    "Rajout de colonne température :"
   ]
  },
  {
   "cell_type": "code",
   "execution_count": 231,
   "metadata": {},
   "outputs": [
    {
     "data": {
      "text/html": [
       "<div>\n",
       "<style scoped>\n",
       "    .dataframe tbody tr th:only-of-type {\n",
       "        vertical-align: middle;\n",
       "    }\n",
       "\n",
       "    .dataframe tbody tr th {\n",
       "        vertical-align: top;\n",
       "    }\n",
       "\n",
       "    .dataframe thead th {\n",
       "        text-align: right;\n",
       "    }\n",
       "</style>\n",
       "<table border=\"1\" class=\"dataframe\">\n",
       "  <thead>\n",
       "    <tr style=\"text-align: right;\">\n",
       "      <th></th>\n",
       "      <th>name</th>\n",
       "      <th>gps_lat</th>\n",
       "      <th>gps_lng</th>\n",
       "      <th>valeur</th>\n",
       "    </tr>\n",
       "  </thead>\n",
       "  <tbody>\n",
       "    <tr>\n",
       "      <th>17908</th>\n",
       "      <td>Angers</td>\n",
       "      <td>47.501835</td>\n",
       "      <td>-0.517146</td>\n",
       "      <td>7</td>\n",
       "    </tr>\n",
       "    <tr>\n",
       "      <th>10208</th>\n",
       "      <td>Chartres</td>\n",
       "      <td>48.448704</td>\n",
       "      <td>1.499690</td>\n",
       "      <td>5</td>\n",
       "    </tr>\n",
       "    <tr>\n",
       "      <th>29899</th>\n",
       "      <td>Paris</td>\n",
       "      <td>48.864049</td>\n",
       "      <td>2.331053</td>\n",
       "      <td>7</td>\n",
       "    </tr>\n",
       "    <tr>\n",
       "      <th>4419</th>\n",
       "      <td>Marseille</td>\n",
       "      <td>43.300771</td>\n",
       "      <td>5.382177</td>\n",
       "      <td>9</td>\n",
       "    </tr>\n",
       "    <tr>\n",
       "      <th>12634</th>\n",
       "      <td>Bordeaux</td>\n",
       "      <td>44.835009</td>\n",
       "      <td>-0.587269</td>\n",
       "      <td>8</td>\n",
       "    </tr>\n",
       "    <tr>\n",
       "      <th>22657</th>\n",
       "      <td>Lille</td>\n",
       "      <td>50.613811</td>\n",
       "      <td>3.042360</td>\n",
       "      <td>5</td>\n",
       "    </tr>\n",
       "    <tr>\n",
       "      <th>16661</th>\n",
       "      <td>Nantes</td>\n",
       "      <td>47.223959</td>\n",
       "      <td>-1.540806</td>\n",
       "      <td>8</td>\n",
       "    </tr>\n",
       "    <tr>\n",
       "      <th>27115</th>\n",
       "      <td>Strasbourg</td>\n",
       "      <td>48.601986</td>\n",
       "      <td>7.783522</td>\n",
       "      <td>3</td>\n",
       "    </tr>\n",
       "    <tr>\n",
       "      <th>16992</th>\n",
       "      <td>Orléans</td>\n",
       "      <td>47.910833</td>\n",
       "      <td>1.915798</td>\n",
       "      <td>5</td>\n",
       "    </tr>\n",
       "    <tr>\n",
       "      <th>26250</th>\n",
       "      <td>Lourdes</td>\n",
       "      <td>43.109618</td>\n",
       "      <td>-0.083287</td>\n",
       "      <td>5</td>\n",
       "    </tr>\n",
       "    <tr>\n",
       "      <th>29376</th>\n",
       "      <td>Chambéry</td>\n",
       "      <td>45.579976</td>\n",
       "      <td>5.912901</td>\n",
       "      <td>3</td>\n",
       "    </tr>\n",
       "    <tr>\n",
       "      <th>8622</th>\n",
       "      <td>Besançon</td>\n",
       "      <td>47.259314</td>\n",
       "      <td>6.027180</td>\n",
       "      <td>3</td>\n",
       "    </tr>\n",
       "    <tr>\n",
       "      <th>12066</th>\n",
       "      <td>Toulouse</td>\n",
       "      <td>43.604626</td>\n",
       "      <td>1.444205</td>\n",
       "      <td>9</td>\n",
       "    </tr>\n",
       "    <tr>\n",
       "      <th>1992</th>\n",
       "      <td>Nice</td>\n",
       "      <td>43.696036</td>\n",
       "      <td>7.265590</td>\n",
       "      <td>9</td>\n",
       "    </tr>\n",
       "    <tr>\n",
       "      <th>6954</th>\n",
       "      <td>Dijon</td>\n",
       "      <td>47.325183</td>\n",
       "      <td>5.035673</td>\n",
       "      <td>2</td>\n",
       "    </tr>\n",
       "    <tr>\n",
       "      <th>24251</th>\n",
       "      <td>Calais</td>\n",
       "      <td>50.957307</td>\n",
       "      <td>1.870872</td>\n",
       "      <td>5</td>\n",
       "    </tr>\n",
       "    <tr>\n",
       "      <th>27678</th>\n",
       "      <td>Lyon</td>\n",
       "      <td>45.771292</td>\n",
       "      <td>4.828083</td>\n",
       "      <td>5</td>\n",
       "    </tr>\n",
       "  </tbody>\n",
       "</table>\n",
       "</div>"
      ],
      "text/plain": [
       "             name    gps_lat   gps_lng  valeur\n",
       "17908      Angers  47.501835 -0.517146       7\n",
       "10208    Chartres  48.448704  1.499690       5\n",
       "29899       Paris  48.864049  2.331053       7\n",
       "4419    Marseille  43.300771  5.382177       9\n",
       "12634    Bordeaux  44.835009 -0.587269       8\n",
       "22657       Lille  50.613811  3.042360       5\n",
       "16661      Nantes  47.223959 -1.540806       8\n",
       "27115  Strasbourg  48.601986  7.783522       3\n",
       "16992     Orléans  47.910833  1.915798       5\n",
       "26250     Lourdes  43.109618 -0.083287       5\n",
       "29376    Chambéry  45.579976  5.912901       3\n",
       "8622     Besançon  47.259314  6.027180       3\n",
       "12066    Toulouse  43.604626  1.444205       9\n",
       "1992         Nice  43.696036  7.265590       9\n",
       "6954        Dijon  47.325183  5.035673       2\n",
       "24251      Calais  50.957307  1.870872       5\n",
       "27678        Lyon  45.771292  4.828083       5"
      ]
     },
     "execution_count": 231,
     "metadata": {},
     "output_type": "execute_result"
    }
   ],
   "source": [
    "liste=[\"Angers\",\"Chartres\",\"Paris\",\"Marseille\",\"Bordeaux\",\"Lille\",\"Nantes\",\"Strasbourg\",\"Orléans\",\"Lourdes\",\"Chambéry\",\"Besançon\",\"Toulouse\",\"Nice\",\"Dijon\",\"Calais\",\"Lyon\"]\n",
    "vl=villes(liste)\n",
    "vl\n",
    "val=[7,5,7,9,8,5,8,3,5,5,3,3,9,9,2,5,5]\n",
    "vl['valeur']=val\n",
    "vl"
   ]
  },
  {
   "cell_type": "code",
   "execution_count": 236,
   "metadata": {},
   "outputs": [
    {
     "data": {
      "text/plain": [
       "<matplotlib.collections.PathCollection at 0x2bd07281360>"
      ]
     },
     "execution_count": 236,
     "metadata": {},
     "output_type": "execute_result"
    },
    {
     "data": {
      "image/png": "[encoded data removed]",
      "text/plain": [
       "<Figure size 640x480 with 1 Axes>"
      ]
     },
     "metadata": {},
     "output_type": "display_data"
    }
   ],
   "source": [
    "plt.scatter(vl[\"gps_lng\"],vl[\"gps_lat\"],c=vl[\"valeur\"])"
   ]
  },
  {
   "cell_type": "code",
   "execution_count": 234,
   "metadata": {},
   "outputs": [],
   "source": [
    "vl.to_csv(r'villes.csv', index=False)"
   ]
  },
  {
   "attachments": {},
   "cell_type": "markdown",
   "metadata": {},
   "source": [
    "## Skgstats"
   ]
  },
  {
   "cell_type": "code",
   "execution_count": 238,
   "metadata": {},
   "outputs": [],
   "source": [
    "import numpy as np \n",
    "import skgstat as skg "
   ]
  },
  {
   "cell_type": "code",
   "execution_count": 323,
   "metadata": {},
   "outputs": [
    {
     "data": {
      "image/png": "[encoded data removed]",
      "text/plain": [
       "<Figure size 800x500 with 2 Axes>"
      ]
     },
     "execution_count": 323,
     "metadata": {},
     "output_type": "execute_result"
    },
    {
     "data": {
      "image/png": "[encoded data removed]",
      "text/plain": [
       "<Figure size 800x500 with 2 Axes>"
      ]
     },
     "metadata": {},
     "output_type": "display_data"
    }
   ],
   "source": [
    "vg = skg.Variogram(vl[['gps_lat', 'gps_lng']].values, vl.valeur.values, normalize=False)\n",
    "vg.plot(show=False)"
   ]
  },
  {
   "cell_type": "code",
   "execution_count": 324,
   "metadata": {},
   "outputs": [
    {
     "data": {
      "text/plain": [
       "{'model': 'spherical',\n",
       " 'estimator': 'matheron',\n",
       " 'dist_func': 'euclidean',\n",
       " 'normalized_effective_range': 73.62867109349693,\n",
       " 'normalized_sill': 46.82305601703452,\n",
       " 'normalized_nugget': 0,\n",
       " 'effective_range': 7.674118916848629,\n",
       " 'sill': 6.594796622117537,\n",
       " 'nugget': 0,\n",
       " 'params': {'estimator': 'matheron',\n",
       "  'model': 'spherical',\n",
       "  'dist_func': 'euclidean',\n",
       "  'bin_func': 'even',\n",
       "  'normalize': False,\n",
       "  'fit_method': 'trf',\n",
       "  'fit_sigma': None,\n",
       "  'use_nugget': False,\n",
       "  'maxlag': None,\n",
       "  'n_lags': 10,\n",
       "  'verbose': False},\n",
       " 'kwargs': {}}"
      ]
     },
     "execution_count": 324,
     "metadata": {},
     "output_type": "execute_result"
    }
   ],
   "source": [
    "vg.describe()"
   ]
  },
  {
   "cell_type": "code",
   "execution_count": 325,
   "metadata": {},
   "outputs": [],
   "source": [
    "ok = skg.OrdinaryKriging(vg)"
   ]
  },
  {
   "cell_type": "code",
   "execution_count": 329,
   "metadata": {},
   "outputs": [],
   "source": [
    "x = vl['gps_lat']\n",
    "y = vl['gps_lng']\n",
    "xx, yy = np.mgrid[x.min():x.max(), y.min():y.max()]"
   ]
  },
  {
   "cell_type": "code",
   "execution_count": 330,
   "metadata": {},
   "outputs": [],
   "source": [
    "field = ok.transform(xx.flatten(), yy.flatten()).reshape(xx.shape)\n",
    "s2 = ok.sigma.reshape(xx.shape)"
   ]
  },
  {
   "cell_type": "code",
   "execution_count": 331,
   "metadata": {},
   "outputs": [
    {
     "data": {
      "image/png": "[encoded data removed]",
      "text/plain": [
       "<Figure size 700x700 with 2 Axes>"
      ]
     },
     "metadata": {},
     "output_type": "display_data"
    }
   ],
   "source": [
    "fig, ax = plt.subplots(1,1,figsize=(7,7))\n",
    "ax.scatter(vl['gps_lng'], vl['gps_lat'], c = vl['valeur'], cmap='jet')\n",
    "m = ax.matshow(field.T, cmap = 'jet')\n",
    "plt.title('Interpolation')\n",
    "plt.colorbar(m)\n",
    "plt.show()"
   ]
  }
 ],
 "metadata": {
  "kernelspec": {
   "display_name": "Python 3",
   "language": "python",
   "name": "python3"
  },
  "language_info": {
   "codemirror_mode": {
    "name": "ipython",
    "version": 3
   },
   "file_extension": ".py",
   "mimetype": "text/x-python",
   "name": "python",
   "nbconvert_exporter": "python",
   "pygments_lexer": "ipython3",
   "version": "3.10.10"
  },
  "orig_nbformat": 4,
  "vscode": {
   "interpreter": {
    "hash": "e0d398e7c3cc3d2b8386dfea47f5eae3378d5d39db7e2c8ef87e93246db0bfd2"
   }
  }
 },
 "nbformat": 4,
 "nbformat_minor": 2
}
